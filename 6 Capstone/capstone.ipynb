{
 "cells": [
  {
   "cell_type": "markdown",
   "metadata": {
    "editable": true
   },
   "source": [
    "## Data Engineering Nanodegree Capstone Project"
   ]
  },
  {
   "cell_type": "markdown",
   "metadata": {
    "editable": true
   },
   "source": [
    "#### Promoting Trade and Tourism in the US using I-94 Immigration Data"
   ]
  },
  {
   "cell_type": "markdown",
   "metadata": {
    "editable": true
   },
   "source": [
    "- The purpose of this project is to build a Spark data warehouse and corresponding data marts and dashboards that would enable the US National Tourism and Trade Office to promote trade and tourism in the United States.\n",
    "\n",
    "- Advertising expenditure could be allocated to promoting the US in countries that send few tourists to the US.\n",
    "\n",
    "- Trade policy could be focused on countries that send the most number of visitors on business visas to the US.\n",
    "\n",
    "- Similarly, tourist attractions and natural wonders in states and cities with little tourism could be promoted.\n",
    "\n",
    "- Universities and colleges could identify the countries that send the most number of students to the US, and actively try to recruit students from those countries to their institutions.\n",
    "\n",
    "- Airlines could plan their routes and adjust their schedules based on arrivals data."
   ]
  },
  {
   "cell_type": "markdown",
   "metadata": {
    "editable": true
   },
   "source": [
    "***"
   ]
  },
  {
   "cell_type": "markdown",
   "metadata": {
    "editable": true
   },
   "source": [
    "### 1. Gather and Analyze Data"
   ]
  },
  {
   "cell_type": "markdown",
   "metadata": {
    "editable": true
   },
   "source": [
    "- Load the data from CSV and JSON files into Spark data frames.\n",
    "- Check the schema and a sampling of rows to determine which columns and rows to load.\n",
    "- Design the data model based on the above step."
   ]
  },
  {
   "cell_type": "markdown",
   "metadata": {
    "editable": true
   },
   "source": [
    "#### Import libraries"
   ]
  },
  {
   "cell_type": "code",
   "execution_count": 1,
   "metadata": {
    "editable": true
   },
   "outputs": [],
   "source": [
    "import configparser\n",
    "from pyspark.sql import types as T\n",
    "from pyspark.sql import SparkSession\n",
    "from pyspark.sql.functions import col\n",
    "import shutil"
   ]
  },
  {
   "cell_type": "markdown",
   "metadata": {
    "editable": true
   },
   "source": [
    "#### Read config file"
   ]
  },
  {
   "cell_type": "code",
   "execution_count": 2,
   "metadata": {
    "editable": true
   },
   "outputs": [
    {
     "data": {
      "text/plain": [
       "['dl.cfg']"
      ]
     },
     "execution_count": 2,
     "metadata": {},
     "output_type": "execute_result"
    }
   ],
   "source": [
    "config = configparser.ConfigParser()\n",
    "config.read('dl.cfg')"
   ]
  },
  {
   "cell_type": "markdown",
   "metadata": {
    "editable": true
   },
   "source": [
    "#### Instantiate a Spark session"
   ]
  },
  {
   "cell_type": "code",
   "execution_count": 3,
   "metadata": {
    "editable": true
   },
   "outputs": [],
   "source": [
    "spark = SparkSession \\\n",
    "        .builder \\\n",
    "        .config(\"spark.jars.packages\", \"org.apache.hadoop:hadoop-aws:2.7.5\") \\\n",
    "        .getOrCreate()"
   ]
  },
  {
   "cell_type": "markdown",
   "metadata": {
    "editable": true
   },
   "source": [
    "#### Load and analyze I-94, airport, country, arrival mode, and visa type data from files"
   ]
  },
  {
   "cell_type": "code",
   "execution_count": 4,
   "metadata": {
    "editable": true
   },
   "outputs": [
    {
     "name": "stdout",
     "output_type": "stream",
     "text": [
      "root\n",
      " |-- _c0: string (nullable = true)\n",
      " |-- cicid: string (nullable = true)\n",
      " |-- i94yr: string (nullable = true)\n",
      " |-- i94mon: string (nullable = true)\n",
      " |-- i94cit: string (nullable = true)\n",
      " |-- i94res: string (nullable = true)\n",
      " |-- i94port: string (nullable = true)\n",
      " |-- arrdate: string (nullable = true)\n",
      " |-- i94mode: string (nullable = true)\n",
      " |-- i94addr: string (nullable = true)\n",
      " |-- depdate: string (nullable = true)\n",
      " |-- i94bir: string (nullable = true)\n",
      " |-- i94visa: string (nullable = true)\n",
      " |-- count: string (nullable = true)\n",
      " |-- dtadfile: string (nullable = true)\n",
      " |-- visapost: string (nullable = true)\n",
      " |-- occup: string (nullable = true)\n",
      " |-- entdepa: string (nullable = true)\n",
      " |-- entdepd: string (nullable = true)\n",
      " |-- entdepu: string (nullable = true)\n",
      " |-- matflag: string (nullable = true)\n",
      " |-- biryear: string (nullable = true)\n",
      " |-- dtaddto: string (nullable = true)\n",
      " |-- gender: string (nullable = true)\n",
      " |-- insnum: string (nullable = true)\n",
      " |-- airline: string (nullable = true)\n",
      " |-- admnum: string (nullable = true)\n",
      " |-- fltno: string (nullable = true)\n",
      " |-- visatype: string (nullable = true)\n",
      "\n",
      "I-94 rows loaded from file: 1000\n",
      "+-------+---------+------+------+------+------+-------+-------+-------+-------+-------+------+-------+-----+--------+--------+-----+-------+-------+-------+-------+-------+--------+------+------+-------+-------------+-----+--------+\n",
      "|    _c0|    cicid| i94yr|i94mon|i94cit|i94res|i94port|arrdate|i94mode|i94addr|depdate|i94bir|i94visa|count|dtadfile|visapost|occup|entdepa|entdepd|entdepu|matflag|biryear| dtaddto|gender|insnum|airline|       admnum|fltno|visatype|\n",
      "+-------+---------+------+------+------+------+-------+-------+-------+-------+-------+------+-------+-----+--------+--------+-----+-------+-------+-------+-------+-------+--------+------+------+-------+-------------+-----+--------+\n",
      "|2027561|4084316.0|2016.0|   4.0| 209.0| 209.0|    HHW|20566.0|    1.0|     HI|20573.0|  61.0|    2.0|  1.0|20160422|    null| null|      G|      O|   null|      M| 1955.0|07202016|     F|  null|     JL|56582674633.0|00782|      WT|\n",
      "|2171295|4422636.0|2016.0|   4.0| 582.0| 582.0|    MCA|20567.0|    1.0|     TX|20568.0|  26.0|    2.0|  1.0|20160423|     MTR| null|      G|      R|   null|      M| 1990.0|10222016|     M|  null|    *GA|94361995930.0|XBLNG|      B2|\n",
      "| 589494|1195600.0|2016.0|   4.0| 148.0| 112.0|    OGG|20551.0|    1.0|     FL|20571.0|  76.0|    2.0|  1.0|20160407|    null| null|      G|      O|   null|      M| 1940.0|07052016|     M|  null|     LH|55780468433.0|00464|      WT|\n",
      "|2631158|5291768.0|2016.0|   4.0| 297.0| 297.0|    LOS|20572.0|    1.0|     CA|20581.0|  25.0|    2.0|  1.0|20160428|     DOH| null|      G|      O|   null|      M| 1991.0|10272016|     M|  null|     QR|94789696030.0|00739|      B2|\n",
      "|3032257| 985523.0|2016.0|   4.0| 111.0| 111.0|    CHM|20550.0|    3.0|     NY|20553.0|  19.0|    2.0|  1.0|20160406|    null| null|      Z|      K|   null|      M| 1997.0|07042016|     F|  null|   null|42322572633.0| LAND|      WT|\n",
      "+-------+---------+------+------+------+------+-------+-------+-------+-------+-------+------+-------+-----+--------+--------+-----+-------+-------+-------+-------+-------+--------+------+------+-------+-------------+-----+--------+\n",
      "only showing top 5 rows\n",
      "\n"
     ]
    }
   ],
   "source": [
    "i94_data = config['LOCAL']['INPUT_DATA'] + \"immigration_data_sample.csv\"\n",
    "i94_df = spark.read.options(header = 'true').csv(i94_data)\n",
    "i94_df.printSchema()\n",
    "print('I-94 rows loaded from file:', i94_df.count())\n",
    "i94_df.show(5)"
   ]
  },
  {
   "cell_type": "code",
   "execution_count": 5,
   "metadata": {
    "editable": true
   },
   "outputs": [
    {
     "name": "stdout",
     "output_type": "stream",
     "text": [
      "root\n",
      " |-- ident: string (nullable = true)\n",
      " |-- type: string (nullable = true)\n",
      " |-- name: string (nullable = true)\n",
      " |-- elevation_ft: string (nullable = true)\n",
      " |-- continent: string (nullable = true)\n",
      " |-- iso_country: string (nullable = true)\n",
      " |-- iso_region: string (nullable = true)\n",
      " |-- municipality: string (nullable = true)\n",
      " |-- gps_code: string (nullable = true)\n",
      " |-- iata_code: string (nullable = true)\n",
      " |-- local_code: string (nullable = true)\n",
      " |-- coordinates: string (nullable = true)\n",
      "\n",
      "Airport rows loaded from file: 55075\n",
      "+-----+-------------+--------------------+------------+---------+-----------+----------+------------+--------+---------+----------+--------------------+\n",
      "|ident|         type|                name|elevation_ft|continent|iso_country|iso_region|municipality|gps_code|iata_code|local_code|         coordinates|\n",
      "+-----+-------------+--------------------+------------+---------+-----------+----------+------------+--------+---------+----------+--------------------+\n",
      "|  00A|     heliport|   Total Rf Heliport|          11|       NA|         US|     US-PA|    Bensalem|     00A|     null|       00A|-74.9336013793945...|\n",
      "| 00AA|small_airport|Aero B Ranch Airport|        3435|       NA|         US|     US-KS|       Leoti|    00AA|     null|      00AA|-101.473911, 38.7...|\n",
      "| 00AK|small_airport|        Lowell Field|         450|       NA|         US|     US-AK|Anchor Point|    00AK|     null|      00AK|-151.695999146, 5...|\n",
      "| 00AL|small_airport|        Epps Airpark|         820|       NA|         US|     US-AL|     Harvest|    00AL|     null|      00AL|-86.7703018188476...|\n",
      "| 00AR|       closed|Newport Hospital ...|         237|       NA|         US|     US-AR|     Newport|    null|     null|      null| -91.254898, 35.6087|\n",
      "+-----+-------------+--------------------+------------+---------+-----------+----------+------------+--------+---------+----------+--------------------+\n",
      "only showing top 5 rows\n",
      "\n"
     ]
    }
   ],
   "source": [
    "airport_data = config['LOCAL']['INPUT_DATA'] + \"airport-codes_csv.csv\"\n",
    "airport_df = spark.read.options(header = 'true').csv(airport_data)\n",
    "airport_df.printSchema()\n",
    "print('Airport rows loaded from file:', airport_df.count())\n",
    "airport_df.show(5)"
   ]
  },
  {
   "cell_type": "code",
   "execution_count": 6,
   "metadata": {
    "editable": true
   },
   "outputs": [
    {
     "name": "stdout",
     "output_type": "stream",
     "text": [
      "root\n",
      " |-- code: long (nullable = true)\n",
      " |-- country: string (nullable = true)\n",
      "\n",
      "Country rows loaded from file: 289\n",
      "+----+--------------------+\n",
      "|code|             country|\n",
      "+----+--------------------+\n",
      "| 582|MEXICO Air Sea, a...|\n",
      "| 236|         AFGHANISTAN|\n",
      "| 101|             ALBANIA|\n",
      "| 316|             ALGERIA|\n",
      "| 102|             ANDORRA|\n",
      "+----+--------------------+\n",
      "only showing top 5 rows\n",
      "\n"
     ]
    }
   ],
   "source": [
    "country_data = config['LOCAL']['INPUT_DATA'] + \"i94_countries.json\"\n",
    "country_df = spark.read.option('multiline', 'true').json(country_data)\n",
    "country_df.printSchema()\n",
    "print('Country rows loaded from file:', country_df.count())\n",
    "country_df.show(5)"
   ]
  },
  {
   "cell_type": "code",
   "execution_count": 7,
   "metadata": {
    "editable": true
   },
   "outputs": [
    {
     "name": "stdout",
     "output_type": "stream",
     "text": [
      "root\n",
      " |-- mode: long (nullable = true)\n",
      " |-- name: string (nullable = true)\n",
      "\n",
      "Arrival mode rows loaded from file: 4\n",
      "+----+------------+\n",
      "|mode|        name|\n",
      "+----+------------+\n",
      "|   1|         Air|\n",
      "|   2|         Sea|\n",
      "|   3|        Land|\n",
      "|   9|Not reported|\n",
      "+----+------------+\n",
      "\n"
     ]
    }
   ],
   "source": [
    "am_data = config['LOCAL']['INPUT_DATA'] + \"i94_arrival_modes.json\"\n",
    "am_df = spark.read.option('multiline', 'true').json(am_data)\n",
    "am_df.printSchema()\n",
    "print('Arrival mode rows loaded from file:', am_df.count())\n",
    "am_df.show()"
   ]
  },
  {
   "cell_type": "code",
   "execution_count": 8,
   "metadata": {
    "editable": true
   },
   "outputs": [
    {
     "name": "stdout",
     "output_type": "stream",
     "text": [
      "root\n",
      " |-- code: long (nullable = true)\n",
      " |-- name: string (nullable = true)\n",
      "\n",
      "Visa type rows loaded from file: 3\n",
      "+----+--------+\n",
      "|code|    name|\n",
      "+----+--------+\n",
      "|   1|Business|\n",
      "|   2|Pleasure|\n",
      "|   3| Student|\n",
      "+----+--------+\n",
      "\n"
     ]
    }
   ],
   "source": [
    "vt_data = config['LOCAL']['INPUT_DATA'] + \"i94_visa_types.json\"\n",
    "vt_df = spark.read.option('multiline', 'true').json(vt_data)\n",
    "vt_df.printSchema()\n",
    "print('Visa type rows loaded from file:', vt_df.count())\n",
    "vt_df.show()"
   ]
  },
  {
   "cell_type": "markdown",
   "metadata": {
    "editable": true
   },
   "source": [
    "***"
   ]
  },
  {
   "cell_type": "markdown",
   "metadata": {
    "editable": true
   },
   "source": [
    "### 2. Data Model and Structure"
   ]
  },
  {
   "cell_type": "markdown",
   "metadata": {
    "editable": true
   },
   "source": [
    "- The fact table will be derived from `data/immigration_data_sample.csv`.\n",
    "- The airport dim table will be loaded from `data/airport-codes_csv.csv`.\n",
    "- The country, arrival mode and visa type dim data was derived from `data/I94_SAS_Labels_Descriptions.SAS`.\n",
    "- The country dim table will be loaded from `data/i94_countries.json`.\n",
    "- The arrival mode dim table will be loaded from `data/i94_arrival_modes.json`.\n",
    "- The visa type dim table will be loaded from `data/i94_visa_types.json`."
   ]
  },
  {
   "cell_type": "markdown",
   "metadata": {
    "editable": true
   },
   "source": [
    "<img src='images/Data Model.png'>"
   ]
  },
  {
   "cell_type": "markdown",
   "metadata": {
    "editable": true
   },
   "source": [
    "| Table | Field | Data Type | Relationship | Comments |\n",
    "| --- | --- | --- | --- | --- |\n",
    "| **fact_i94** | cicid | int | | Unique ID from source data. |\n",
    "| | port_of_entry | text | dim_airport.code (if arrival mode by air) | Port of entry. |\n",
    "| | citizenship_country_code | int | dim_country.code | Immigrant's country of citizenship. |\n",
    "| | residence_country_code | int | dim_country.code | Immigrant's country of residence. |\n",
    "| | arrival_mode | int | dim_arrival_mode.mode | Immigrant's mode of arrival - by air, sea or land.|\n",
    "| | visa_type | int | dim_visa_type.code | Immigrant's visa type - business, pleasure or student. |\n",
    "| | year | int | | I-94 year. |\n",
    "| | month | int | |  I-94 month. |\n",
    "| | arrival_date | date | | Immigrant's arrival date. |\n",
    "| | departure_date | date | | Immigrant's departure date. |\n",
    "| | us_address_state | text | | Immigrant's address during visit. |\n",
    "| | age | int | | Immigrant's age. |\n",
    "| | gender | text | | Immigrant's gender. |\n",
    "| **dim_airport** | iata_code | text | fact_i94.airport_code |   |\n",
    "| | name | text | |   |\n",
    "| | type | text | |   |\n",
    "| | city | text | |   |\n",
    "| | state | text | |   |\n",
    "| **dim_country** | code | int | fact_i94.citizenship_country_code, fact_i94.residence_country_code |   |\n",
    "| | country | text | |   |\n",
    "| **dim_arrival_mode** | mode | int | fact_i94.arrival_mode |   |\n",
    "| | name | text | |   |\n",
    "| **dim_visa_type** | code | int | fact_i94.visa_type |   |\n",
    "| | name | text | |   |\n"
   ]
  },
  {
   "cell_type": "markdown",
   "metadata": {
    "editable": true
   },
   "source": [
    "***"
   ]
  },
  {
   "cell_type": "markdown",
   "metadata": {
    "editable": true
   },
   "source": [
    "### 3. ETL Pipeline"
   ]
  },
  {
   "cell_type": "markdown",
   "metadata": {
    "editable": true
   },
   "source": [
    "<img src='images/Pipeline.png'>"
   ]
  },
  {
   "cell_type": "markdown",
   "metadata": {
    "editable": true
   },
   "source": [
    "#### Clear previously created data warehouse parquet tables"
   ]
  },
  {
   "cell_type": "code",
   "execution_count": 9,
   "metadata": {
    "editable": true
   },
   "outputs": [],
   "source": [
    "shutil.rmtree(\"spark-warehouse/\")"
   ]
  },
  {
   "cell_type": "markdown",
   "metadata": {
    "editable": true
   },
   "source": [
    "#### Initialize variables for data quality checks later"
   ]
  },
  {
   "cell_type": "code",
   "execution_count": 10,
   "metadata": {
    "editable": true
   },
   "outputs": [],
   "source": [
    "tables = ['I-94', 'Airport', 'Country', 'Arrival Mode', 'Visa Type']"
   ]
  },
  {
   "cell_type": "code",
   "execution_count": 11,
   "metadata": {
    "editable": true
   },
   "outputs": [],
   "source": [
    "expected_row_count = {\n",
    "    'I-94':0,\n",
    "    'Airport':0,\n",
    "    'Country':0,\n",
    "    'Arrival Mode':0,\n",
    "    'Visa Type':0\n",
    "}"
   ]
  },
  {
   "cell_type": "code",
   "execution_count": 12,
   "metadata": {
    "editable": true
   },
   "outputs": [],
   "source": [
    "parquet_tables = {\n",
    "    'I-94':'fact_i94.parquet',\n",
    "    'Airport':'dim_airport.parquet',\n",
    "    'Country':'dim_country.parquet',\n",
    "    'Arrival Mode':'dim_arrival_mode.parquet',\n",
    "    'Visa Type':'dim_visa_type.parquet'\n",
    "}"
   ]
  },
  {
   "cell_type": "markdown",
   "metadata": {
    "editable": true
   },
   "source": [
    "#### Load I-94 data"
   ]
  },
  {
   "cell_type": "markdown",
   "metadata": {
    "editable": true
   },
   "source": [
    "1. Load I-94 data from CSV file.\n",
    "2. Stage only needed columns.\n",
    "3. Convert columns to appropriate data type."
   ]
  },
  {
   "cell_type": "code",
   "execution_count": 13,
   "metadata": {
    "editable": true
   },
   "outputs": [],
   "source": [
    "drop_columns = ['_c0', 'count', 'dtadfile', 'visapost', 'occup', 'entdepa', 'entdepd', 'entdepu', 'matflag', 'biryear', 'dtaddto', 'insnum', 'airline', 'admnum', 'fltno', 'visatype']\n",
    "i94_df = i94_df.select([column for column in i94_df.columns if column not in drop_columns])"
   ]
  },
  {
   "cell_type": "code",
   "execution_count": 14,
   "metadata": {
    "editable": true
   },
   "outputs": [],
   "source": [
    "int_columns = ['cicid', 'i94yr', 'i94mon', 'i94cit', 'i94res', 'arrdate', 'i94mode', 'depdate', 'i94bir', 'i94visa']\n",
    "for column in int_columns:\n",
    "    i94_df = i94_df.withColumn(column, i94_df[column].cast(T.IntegerType()))"
   ]
  },
  {
   "cell_type": "code",
   "execution_count": 15,
   "metadata": {
    "editable": true
   },
   "outputs": [
    {
     "name": "stdout",
     "output_type": "stream",
     "text": [
      "+-------+-----+------+------+------+-------+-------+-------+-------+-------+------+-------+------+\n",
      "|  cicid|i94yr|i94mon|i94cit|i94res|i94port|arrdate|i94mode|i94addr|depdate|i94bir|i94visa|gender|\n",
      "+-------+-----+------+------+------+-------+-------+-------+-------+-------+------+-------+------+\n",
      "|4084316| 2016|     4|   209|   209|    HHW|  20566|      1|     HI|  20573|    61|      2|     F|\n",
      "|4422636| 2016|     4|   582|   582|    MCA|  20567|      1|     TX|  20568|    26|      2|     M|\n",
      "|1195600| 2016|     4|   148|   112|    OGG|  20551|      1|     FL|  20571|    76|      2|     M|\n",
      "|5291768| 2016|     4|   297|   297|    LOS|  20572|      1|     CA|  20581|    25|      2|     M|\n",
      "| 985523| 2016|     4|   111|   111|    CHM|  20550|      3|     NY|  20553|    19|      2|     F|\n",
      "+-------+-----+------+------+------+-------+-------+-------+-------+-------+------+-------+------+\n",
      "only showing top 5 rows\n",
      "\n"
     ]
    }
   ],
   "source": [
    "i94_df.show(5)"
   ]
  },
  {
   "cell_type": "code",
   "execution_count": 16,
   "metadata": {
    "editable": true
   },
   "outputs": [],
   "source": [
    "i94_df.createOrReplaceTempView(\"stg_i94\")"
   ]
  },
  {
   "cell_type": "markdown",
   "metadata": {
    "editable": true
   },
   "source": [
    "#### Confirming that cicid's are unique in the data set"
   ]
  },
  {
   "cell_type": "code",
   "execution_count": 17,
   "metadata": {
    "editable": true
   },
   "outputs": [
    {
     "name": "stdout",
     "output_type": "stream",
     "text": [
      "+---------------------+\n",
      "|count(DISTINCT cicid)|\n",
      "+---------------------+\n",
      "|                 1000|\n",
      "+---------------------+\n",
      "\n"
     ]
    }
   ],
   "source": [
    "spark.sql(\"\"\"\n",
    "    select\n",
    "        count(distinct cicid)\n",
    "    from\n",
    "        stg_i94\n",
    "\"\"\").show()"
   ]
  },
  {
   "cell_type": "markdown",
   "metadata": {
    "editable": true
   },
   "source": [
    "#### Write I-94 fact table"
   ]
  },
  {
   "cell_type": "code",
   "execution_count": 18,
   "metadata": {
    "editable": true
   },
   "outputs": [],
   "source": [
    "fact_i94_table = spark.sql(\"\"\"\n",
    "    select\n",
    "        cicid,\n",
    "        i94port as port_of_entry,\n",
    "        i94cit as citizenship_country_code,\n",
    "        i94res as residence_country_code,\n",
    "        i94mode as arrival_mode,\n",
    "        i94visa as visa_type,\n",
    "        i94yr as year,\n",
    "        i94mon as month,\n",
    "        date_add(cast('1960-01-01' as date), arrdate) as arrival_date,\n",
    "        date_add(cast('1960-01-01' as date), depdate) as departure_date,\n",
    "        i94addr as us_address_state,\n",
    "        i94bir as age,\n",
    "        gender\n",
    "    from\n",
    "        stg_i94\n",
    "\"\"\")"
   ]
  },
  {
   "cell_type": "code",
   "execution_count": 19,
   "metadata": {
    "editable": true
   },
   "outputs": [],
   "source": [
    "expected_row_count['I-94'] = fact_i94_table.count()"
   ]
  },
  {
   "cell_type": "code",
   "execution_count": 20,
   "metadata": {
    "editable": true
   },
   "outputs": [
    {
     "name": "stdout",
     "output_type": "stream",
     "text": [
      "+-------+-------------+------------------------+----------------------+------------+---------+----+-----+------------+--------------+----------------+---+------+\n",
      "|  cicid|port_of_entry|citizenship_country_code|residence_country_code|arrival_mode|visa_type|year|month|arrival_date|departure_date|us_address_state|age|gender|\n",
      "+-------+-------------+------------------------+----------------------+------------+---------+----+-----+------------+--------------+----------------+---+------+\n",
      "|4084316|          HHW|                     209|                   209|           1|        2|2016|    4|  2016-04-22|    2016-04-29|              HI| 61|     F|\n",
      "|4422636|          MCA|                     582|                   582|           1|        2|2016|    4|  2016-04-23|    2016-04-24|              TX| 26|     M|\n",
      "|1195600|          OGG|                     148|                   112|           1|        2|2016|    4|  2016-04-07|    2016-04-27|              FL| 76|     M|\n",
      "|5291768|          LOS|                     297|                   297|           1|        2|2016|    4|  2016-04-28|    2016-05-07|              CA| 25|     M|\n",
      "| 985523|          CHM|                     111|                   111|           3|        2|2016|    4|  2016-04-06|    2016-04-09|              NY| 19|     F|\n",
      "+-------+-------------+------------------------+----------------------+------------+---------+----+-----+------------+--------------+----------------+---+------+\n",
      "only showing top 5 rows\n",
      "\n"
     ]
    }
   ],
   "source": [
    "fact_i94_table.show(5)"
   ]
  },
  {
   "cell_type": "code",
   "execution_count": 21,
   "metadata": {
    "editable": true
   },
   "outputs": [],
   "source": [
    "try:\n",
    "    fact_i94_table.write.partitionBy('year', 'month').parquet(config['LOCAL']['OUTPUT_DATA'] + \"fact_i94.parquet\")\n",
    "except Exception as e:\n",
    "    print(\"Error:\", e)"
   ]
  },
  {
   "cell_type": "markdown",
   "metadata": {
    "editable": true
   },
   "source": [
    "#### Load airport data"
   ]
  },
  {
   "cell_type": "markdown",
   "metadata": {
    "editable": true
   },
   "source": [
    "1. Load airport data from CSV file.\n",
    "2. Stage only operational US airports with IATA code.\n",
    "3. Stage only needed columns."
   ]
  },
  {
   "cell_type": "code",
   "execution_count": 22,
   "metadata": {
    "editable": true
   },
   "outputs": [],
   "source": [
    "airport_df = airport_df.filter(airport_df.type != 'closed') \\\n",
    "                .filter(airport_df.iso_country == 'US') \\\n",
    "                .filter(airport_df.iata_code.isNotNull())"
   ]
  },
  {
   "cell_type": "code",
   "execution_count": 23,
   "metadata": {
    "editable": true
   },
   "outputs": [
    {
     "name": "stdout",
     "output_type": "stream",
     "text": [
      "Operational airports in US with IATA code: 1956\n"
     ]
    }
   ],
   "source": [
    "print('Operational airports in US with IATA code:', airport_df.count())"
   ]
  },
  {
   "cell_type": "code",
   "execution_count": 24,
   "metadata": {
    "editable": true
   },
   "outputs": [],
   "source": [
    "drop_columns = ['ident', 'elevation_ft', 'continent', 'iso_country', 'gps_code', 'local_code', 'coordinates']\n",
    "airport_df = airport_df.select([column for column in airport_df.columns if column not in drop_columns])"
   ]
  },
  {
   "cell_type": "code",
   "execution_count": 25,
   "metadata": {
    "editable": true
   },
   "outputs": [
    {
     "name": "stdout",
     "output_type": "stream",
     "text": [
      "+-------------+--------------------+----------+-------------+---------+\n",
      "|         type|                name|iso_region| municipality|iata_code|\n",
      "+-------------+--------------------+----------+-------------+---------+\n",
      "|small_airport|Ocean Reef Club A...|     US-FL|    Key Largo|      OCA|\n",
      "|small_airport|Pilot Station Air...|     US-AK|Pilot Station|      PQS|\n",
      "|small_airport|Crested Butte Air...|     US-CO|Crested Butte|      CSE|\n",
      "|small_airport|   LBJ Ranch Airport|     US-TX| Johnson City|      JCY|\n",
      "|small_airport|Metropolitan Airport|     US-MA|       Palmer|      PMX|\n",
      "+-------------+--------------------+----------+-------------+---------+\n",
      "only showing top 5 rows\n",
      "\n"
     ]
    }
   ],
   "source": [
    "airport_df.show(5)"
   ]
  },
  {
   "cell_type": "code",
   "execution_count": 26,
   "metadata": {
    "editable": true
   },
   "outputs": [],
   "source": [
    "airport_df.createOrReplaceTempView(\"stg_airport\")"
   ]
  },
  {
   "cell_type": "markdown",
   "metadata": {
    "editable": true
   },
   "source": [
    "#### Confirming that IATA codes are unique in the data set"
   ]
  },
  {
   "cell_type": "code",
   "execution_count": 27,
   "metadata": {
    "editable": true
   },
   "outputs": [
    {
     "name": "stdout",
     "output_type": "stream",
     "text": [
      "+-------------------------+\n",
      "|count(DISTINCT iata_code)|\n",
      "+-------------------------+\n",
      "|                     1956|\n",
      "+-------------------------+\n",
      "\n"
     ]
    }
   ],
   "source": [
    "spark.sql(\"\"\"\n",
    "    select\n",
    "        count(distinct iata_code)\n",
    "    from\n",
    "        stg_airport\n",
    "\"\"\").show()"
   ]
  },
  {
   "cell_type": "markdown",
   "metadata": {
    "editable": true
   },
   "source": [
    "#### Write airport dim table"
   ]
  },
  {
   "cell_type": "code",
   "execution_count": 28,
   "metadata": {
    "editable": true
   },
   "outputs": [],
   "source": [
    "dim_airport_table = spark.sql(\"\"\"\n",
    "    select\n",
    "        iata_code,\n",
    "        name,\n",
    "        type,\n",
    "        municipality as city,\n",
    "        right(iso_region, 2) as state\n",
    "    from\n",
    "        stg_airport\n",
    "\"\"\")"
   ]
  },
  {
   "cell_type": "code",
   "execution_count": 29,
   "metadata": {
    "editable": true
   },
   "outputs": [],
   "source": [
    "expected_row_count['Airport'] = dim_airport_table.count()"
   ]
  },
  {
   "cell_type": "code",
   "execution_count": 30,
   "metadata": {
    "editable": true
   },
   "outputs": [
    {
     "name": "stdout",
     "output_type": "stream",
     "text": [
      "+---------+--------------------+-------------+-------------+-----+\n",
      "|iata_code|                name|         type|         city|state|\n",
      "+---------+--------------------+-------------+-------------+-----+\n",
      "|      OCA|Ocean Reef Club A...|small_airport|    Key Largo|   FL|\n",
      "|      PQS|Pilot Station Air...|small_airport|Pilot Station|   AK|\n",
      "|      CSE|Crested Butte Air...|small_airport|Crested Butte|   CO|\n",
      "|      JCY|   LBJ Ranch Airport|small_airport| Johnson City|   TX|\n",
      "|      PMX|Metropolitan Airport|small_airport|       Palmer|   MA|\n",
      "+---------+--------------------+-------------+-------------+-----+\n",
      "only showing top 5 rows\n",
      "\n"
     ]
    }
   ],
   "source": [
    "dim_airport_table.show(5)"
   ]
  },
  {
   "cell_type": "code",
   "execution_count": 31,
   "metadata": {
    "editable": true
   },
   "outputs": [],
   "source": [
    "try:\n",
    "    dim_airport_table.write.partitionBy('state').parquet(config['LOCAL']['OUTPUT_DATA'] + \"dim_airport.parquet\")\n",
    "except Exception as e:\n",
    "    print(\"Error:\", e)"
   ]
  },
  {
   "cell_type": "markdown",
   "metadata": {
    "editable": true
   },
   "source": [
    "#### Load I-94 lookup data such as countries, arrival modes, and visa types"
   ]
  },
  {
   "cell_type": "markdown",
   "metadata": {
    "editable": true
   },
   "source": [
    "1. Lookup data for countries, arrival modes and visa types was created from the I-94 data dictionary.\n",
    "2. This data in JSON format is used to create dimensions that provide meaning to codified information in I-94 fact table."
   ]
  },
  {
   "cell_type": "markdown",
   "metadata": {
    "editable": true
   },
   "source": [
    "#### Countries"
   ]
  },
  {
   "cell_type": "code",
   "execution_count": 32,
   "metadata": {
    "editable": true
   },
   "outputs": [],
   "source": [
    "country_df.createOrReplaceTempView(\"stg_country\")"
   ]
  },
  {
   "cell_type": "markdown",
   "metadata": {
    "editable": true
   },
   "source": [
    "#### Confirming that country codes are unique in the data set"
   ]
  },
  {
   "cell_type": "code",
   "execution_count": 33,
   "metadata": {
    "editable": true
   },
   "outputs": [
    {
     "name": "stdout",
     "output_type": "stream",
     "text": [
      "+--------------------+\n",
      "|count(DISTINCT code)|\n",
      "+--------------------+\n",
      "|                 289|\n",
      "+--------------------+\n",
      "\n"
     ]
    }
   ],
   "source": [
    "spark.sql(\"\"\"\n",
    "    select\n",
    "        count(distinct code)\n",
    "    from\n",
    "        stg_country\n",
    "\"\"\").show()"
   ]
  },
  {
   "cell_type": "markdown",
   "metadata": {
    "editable": true
   },
   "source": [
    "#### Write country dim table"
   ]
  },
  {
   "cell_type": "code",
   "execution_count": 34,
   "metadata": {
    "editable": true
   },
   "outputs": [],
   "source": [
    "dim_country_table = spark.sql(\"\"\"\n",
    "    select\n",
    "        code,\n",
    "        country\n",
    "    from\n",
    "        stg_country\n",
    "\"\"\")"
   ]
  },
  {
   "cell_type": "code",
   "execution_count": 35,
   "metadata": {
    "editable": true
   },
   "outputs": [],
   "source": [
    "expected_row_count['Country'] = dim_country_table.count()"
   ]
  },
  {
   "cell_type": "code",
   "execution_count": 36,
   "metadata": {
    "editable": true
   },
   "outputs": [
    {
     "name": "stdout",
     "output_type": "stream",
     "text": [
      "+----+--------------------+\n",
      "|code|             country|\n",
      "+----+--------------------+\n",
      "| 582|MEXICO Air Sea, a...|\n",
      "| 236|         AFGHANISTAN|\n",
      "| 101|             ALBANIA|\n",
      "| 316|             ALGERIA|\n",
      "| 102|             ANDORRA|\n",
      "+----+--------------------+\n",
      "only showing top 5 rows\n",
      "\n"
     ]
    }
   ],
   "source": [
    "dim_country_table.show(5)"
   ]
  },
  {
   "cell_type": "code",
   "execution_count": 37,
   "metadata": {
    "editable": true
   },
   "outputs": [],
   "source": [
    "try:\n",
    "    dim_country_table.write.parquet(config['LOCAL']['OUTPUT_DATA'] + \"dim_country.parquet\")\n",
    "except Exception as e:\n",
    "    print(\"Error:\", e)"
   ]
  },
  {
   "cell_type": "markdown",
   "metadata": {
    "editable": true
   },
   "source": [
    "#### Arrival modes"
   ]
  },
  {
   "cell_type": "code",
   "execution_count": 38,
   "metadata": {
    "editable": true
   },
   "outputs": [],
   "source": [
    "am_df.createOrReplaceTempView(\"stg_arrival_mode\")"
   ]
  },
  {
   "cell_type": "markdown",
   "metadata": {
    "editable": true
   },
   "source": [
    "#### Write arrival mode dim table"
   ]
  },
  {
   "cell_type": "code",
   "execution_count": 39,
   "metadata": {
    "editable": true
   },
   "outputs": [],
   "source": [
    "dim_arrival_mode_table = spark.sql(\"\"\"\n",
    "    select\n",
    "        mode,\n",
    "        name\n",
    "    from\n",
    "        stg_arrival_mode\n",
    "\"\"\")"
   ]
  },
  {
   "cell_type": "code",
   "execution_count": 40,
   "metadata": {
    "editable": true
   },
   "outputs": [],
   "source": [
    "expected_row_count['Arrival Mode'] = dim_arrival_mode_table.count()"
   ]
  },
  {
   "cell_type": "code",
   "execution_count": 41,
   "metadata": {
    "editable": true
   },
   "outputs": [
    {
     "name": "stdout",
     "output_type": "stream",
     "text": [
      "+----+------------+\n",
      "|mode|        name|\n",
      "+----+------------+\n",
      "|   1|         Air|\n",
      "|   2|         Sea|\n",
      "|   3|        Land|\n",
      "|   9|Not reported|\n",
      "+----+------------+\n",
      "\n"
     ]
    }
   ],
   "source": [
    "dim_arrival_mode_table.show()"
   ]
  },
  {
   "cell_type": "code",
   "execution_count": 42,
   "metadata": {
    "editable": true
   },
   "outputs": [],
   "source": [
    "try:\n",
    "    dim_arrival_mode_table.write.parquet(config['LOCAL']['OUTPUT_DATA'] + \"dim_arrival_mode.parquet\")\n",
    "except Exception as e:\n",
    "    print(\"Error:\", e)"
   ]
  },
  {
   "cell_type": "markdown",
   "metadata": {
    "editable": true
   },
   "source": [
    "#### Visa types"
   ]
  },
  {
   "cell_type": "code",
   "execution_count": 43,
   "metadata": {
    "editable": true
   },
   "outputs": [],
   "source": [
    "vt_df.createOrReplaceTempView(\"stg_visa_type\")"
   ]
  },
  {
   "cell_type": "markdown",
   "metadata": {
    "editable": true
   },
   "source": [
    "#### Write visa type dim table"
   ]
  },
  {
   "cell_type": "code",
   "execution_count": 44,
   "metadata": {
    "editable": true
   },
   "outputs": [],
   "source": [
    "dim_visa_type_table = spark.sql(\"\"\"\n",
    "    select\n",
    "        code,\n",
    "        name\n",
    "    from\n",
    "        stg_visa_type\n",
    "\"\"\")"
   ]
  },
  {
   "cell_type": "code",
   "execution_count": 45,
   "metadata": {
    "editable": true
   },
   "outputs": [],
   "source": [
    "expected_row_count['Visa Type'] = dim_visa_type_table.count()"
   ]
  },
  {
   "cell_type": "code",
   "execution_count": 46,
   "metadata": {
    "editable": true
   },
   "outputs": [
    {
     "name": "stdout",
     "output_type": "stream",
     "text": [
      "+----+--------+\n",
      "|code|    name|\n",
      "+----+--------+\n",
      "|   1|Business|\n",
      "|   2|Pleasure|\n",
      "|   3| Student|\n",
      "+----+--------+\n",
      "\n"
     ]
    }
   ],
   "source": [
    "dim_visa_type_table.show()"
   ]
  },
  {
   "cell_type": "code",
   "execution_count": 47,
   "metadata": {
    "editable": true
   },
   "outputs": [],
   "source": [
    "try:\n",
    "    dim_visa_type_table.write.parquet(config['LOCAL']['OUTPUT_DATA'] + \"dim_visa_type.parquet\")\n",
    "except Exception as e:\n",
    "    print(\"Error:\", e)"
   ]
  },
  {
   "cell_type": "markdown",
   "metadata": {
    "editable": true
   },
   "source": [
    "***"
   ]
  },
  {
   "cell_type": "markdown",
   "metadata": {
    "editable": true
   },
   "source": [
    "### 4. Data Quality Checks"
   ]
  },
  {
   "cell_type": "markdown",
   "metadata": {
    "editable": true
   },
   "source": [
    "1. Confirm that number of rows loaded in parquet tables are as expected.\n",
    "2. Check if any dimensions in fact table are missing in dim tables."
   ]
  },
  {
   "cell_type": "markdown",
   "metadata": {
    "editable": true
   },
   "source": [
    "#### Row count check"
   ]
  },
  {
   "cell_type": "code",
   "execution_count": 48,
   "metadata": {
    "editable": true
   },
   "outputs": [
    {
     "name": "stdout",
     "output_type": "stream",
     "text": [
      "All rows loaded in parquet table related to I-94. Expected rows: 1000. Loaded rows: 1000.\n",
      "All rows loaded in parquet table related to Airport. Expected rows: 1956. Loaded rows: 1956.\n",
      "All rows loaded in parquet table related to Country. Expected rows: 289. Loaded rows: 289.\n",
      "All rows loaded in parquet table related to Arrival Mode. Expected rows: 4. Loaded rows: 4.\n",
      "All rows loaded in parquet table related to Visa Type. Expected rows: 3. Loaded rows: 3.\n"
     ]
    }
   ],
   "source": [
    "for table in tables:\n",
    "    df = spark.read.parquet(config['LOCAL']['OUTPUT_DATA'] + parquet_tables[table])\n",
    "    if expected_row_count[table] == df.count():\n",
    "        print(\"All rows loaded in parquet table related to {}. Expected rows: {}. Loaded rows: {}.\" \\\n",
    "              .format(table, expected_row_count[table], df.count()))\n",
    "    else:\n",
    "        print(\"Missing rows in parquet table related to {}. Expected rows: {}. Loaded rows: {}.\" \\\n",
    "              .format(table, expected_row_count[table], df.count()))"
   ]
  },
  {
   "cell_type": "markdown",
   "metadata": {
    "editable": true
   },
   "source": [
    "#### Missing dimension checks"
   ]
  },
  {
   "cell_type": "markdown",
   "metadata": {
    "editable": true
   },
   "source": [
    "1. Check that dimensions in I-94 fact table have a corresponding value in dim tables.\n",
    "2. Write missing dimension values to a parquet table for remedial action later."
   ]
  },
  {
   "cell_type": "code",
   "execution_count": 50,
   "metadata": {
    "editable": true
   },
   "outputs": [],
   "source": [
    "dim_missing_table = spark.sql(\"\"\"\n",
    "    select distinct\n",
    "        'Airport' as dim,\n",
    "        i94port as value\n",
    "    from\n",
    "        stg_i94\n",
    "    where\n",
    "        i94mode = 1 and\n",
    "        i94port not in\n",
    "            (\n",
    "                select\n",
    "                    iata_code\n",
    "                from\n",
    "                    stg_airport\n",
    "            )\n",
    "    union\n",
    "    \n",
    "    select distinct\n",
    "        'Country' as dim,\n",
    "         i94cit as value\n",
    "    from\n",
    "        stg_i94\n",
    "    where\n",
    "        i94cit not in\n",
    "            (\n",
    "                select\n",
    "                    code\n",
    "                from\n",
    "                    stg_country\n",
    "            )\n",
    "    union\n",
    "    \n",
    "    select distinct\n",
    "        'Country' as dim,\n",
    "         i94res as value\n",
    "    from\n",
    "        stg_i94\n",
    "    where\n",
    "        i94res not in\n",
    "            (\n",
    "                select\n",
    "                    code\n",
    "                from\n",
    "                    stg_country\n",
    "            )\n",
    "    union\n",
    "    \n",
    "    select distinct\n",
    "        'Arrival Mode' as dim,\n",
    "        i94mode as value\n",
    "    from\n",
    "        stg_i94\n",
    "    where\n",
    "        i94mode not in\n",
    "            (\n",
    "                select\n",
    "                    mode\n",
    "                from\n",
    "                    stg_arrival_mode\n",
    "            )\n",
    "    union\n",
    "    \n",
    "    select distinct\n",
    "        'Visa Type' as dim,\n",
    "        i94visa as value\n",
    "    from\n",
    "        stg_i94\n",
    "    where\n",
    "        i94visa not in\n",
    "            (\n",
    "                select\n",
    "                    code\n",
    "                from\n",
    "                    stg_visa_type\n",
    "            )\n",
    "\"\"\")"
   ]
  },
  {
   "cell_type": "code",
   "execution_count": 51,
   "metadata": {
    "editable": true
   },
   "outputs": [
    {
     "name": "stdout",
     "output_type": "stream",
     "text": [
      "+-------+-----+\n",
      "|    dim|value|\n",
      "+-------+-----+\n",
      "|Airport|  WPB|\n",
      "|Airport|  PHI|\n",
      "|Country|  746|\n",
      "|Airport|  SNJ|\n",
      "|Airport|  DLR|\n",
      "|Airport|  NOL|\n",
      "|Country|  252|\n",
      "|Airport|  NCA|\n",
      "|Airport|  MCA|\n",
      "|Airport|  CHI|\n",
      "|Airport|  SHA|\n",
      "|Airport|  SFR|\n",
      "|Airport|  LOS|\n",
      "|Country|  718|\n",
      "|Airport|  FTL|\n",
      "|Airport|  AGA|\n",
      "|Airport|  MIL|\n",
      "|Country|  133|\n",
      "|Airport|  MON|\n",
      "|Airport|  SAI|\n",
      "+-------+-----+\n",
      "only showing top 20 rows\n",
      "\n"
     ]
    }
   ],
   "source": [
    "dim_missing_table.show()"
   ]
  },
  {
   "cell_type": "code",
   "execution_count": 52,
   "metadata": {
    "editable": true
   },
   "outputs": [],
   "source": [
    "try:\n",
    "    dim_missing_table.write.partitionBy('dim').parquet(config['LOCAL']['OUTPUT_DATA'] + \"dim_missing.parquet\")\n",
    "except Exception as e:\n",
    "    print(\"Error:\", e)"
   ]
  },
  {
   "cell_type": "markdown",
   "metadata": {
    "editable": true
   },
   "source": [
    "***"
   ]
  },
  {
   "cell_type": "markdown",
   "metadata": {
    "editable": true
   },
   "source": [
    "### 5. Summary"
   ]
  },
  {
   "cell_type": "markdown",
   "metadata": {
    "editable": true
   },
   "source": [
    "- Apache Spark was the tool of choice because it is a cluster-computing framework that is built for big data processing.\n",
    "- Simply by adding clusters to an Apache Spark setup, millions of rows of source data can be processed.\n",
    "- The data warehouse tables are stored in the distributed and high-performing Parquet format, which allows for fast and simultaneous analytic processing by 100s of users.\n",
    "- The entire ETL process can be contained in a Python file, and scheduled, monitored and logged with Apache Airflow on an hourly, daily or monthly basis as per business requirement."
   ]
  },
  {
   "cell_type": "code",
   "execution_count": null,
   "metadata": {
    "editable": true
   },
   "outputs": [],
   "source": []
  }
 ],
 "metadata": {
  "kernelspec": {
   "display_name": "Python 3",
   "language": "python",
   "name": "python3"
  },
  "language_info": {
   "codemirror_mode": {
    "name": "ipython",
    "version": 3
   },
   "file_extension": ".py",
   "mimetype": "text/x-python",
   "name": "python",
   "nbconvert_exporter": "python",
   "pygments_lexer": "ipython3",
   "version": "3.6.3"
  }
 },
 "nbformat": 4,
 "nbformat_minor": 4
}
